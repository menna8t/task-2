{
 "cells": [
  {
   "cell_type": "code",
   "execution_count": 13,
   "id": "ac455707-219b-4c69-8961-96647ae6ad8d",
   "metadata": {},
   "outputs": [
    {
     "name": "stdout",
     "output_type": "stream",
     "text": [
      " contacts are : \n",
      "Menna : 01234567891\n",
      "- - - - - - - - \n",
      "Ahmed : 01236578912\n",
      "- - - - - - - - \n",
      "Mohamed : 01234665543\n",
      "- - - - - - - - \n",
      "Aisha : 010457687997\n",
      "- - - - - - - - \n",
      "Noor : 01568788679\n",
      "- - - - - - - - \n",
      "Malak : 01088874455\n",
      "- - - - - - - - \n",
      " please enter the name \n"
     ]
    },
    {
     "name": "stdin",
     "output_type": "stream",
     "text": [
      " Aisha\n"
     ]
    },
    {
     "name": "stdout",
     "output_type": "stream",
     "text": [
      "Aisha 's phone number  is : 010457687997\n"
     ]
    }
   ],
   "source": [
    " # task 1\n",
    "contacts = { \"Menna\" : \"01234567891\" ,\n",
    "            \"Ahmed\" : \"01236578912\" ,\n",
    "            \"Mohamed\" : \"01234665543\" }\n",
    "more =  { \"Aisha\" :  \"010457687997\", \n",
    "         \"Noor\" : \"01568788679\",\n",
    "         \"Malak\" : \"01088874455\" }\n",
    "contacts.update(more)\n",
    "print (\" contacts are : \")\n",
    " for name, number in contacts.items() :\n",
    "     print ( name , \":\" , number ) \n",
    "     print ( \"- - - - - - - - \" )\n",
    "     \n",
    "print (\" please enter the name \")\n",
    "search_name= input()\n",
    "  \n",
    "if name in contacts :\n",
    "      print(f\"{search_name } 's phone number  is : {contacts[search_name]}\")\n",
    "else :\n",
    "    print(f\"{search_name} is not found in the contact book. \" )\n",
    "     \n",
    "\n",
    "\n",
    "\n"
   ]
  },
  {
   "cell_type": "code",
   "execution_count": 8,
   "id": "fd684138-eef3-41e9-959d-91668fcfd8eb",
   "metadata": {},
   "outputs": [
    {
     "name": "stdout",
     "output_type": "stream",
     "text": [
      "Ahmed :  The average of their marks is : 90.0\n",
      "Mohamed :  The average of their marks is : 76.66666666666667\n",
      "selivia :  The average of their marks is : 80.0\n"
     ]
    }
   ],
   "source": [
    "# task2\n",
    "\n",
    "\n",
    "students = [ { \"name\" : \"Ahmed\", \"grades\" :[ 80 , 90 , 100] } ,\n",
    "                {\"name\" : \"Mohamed\" , \"grades\" :[ 80 , 80 , 70] } ,\n",
    "                {\"name\" : \"selivia\" , \"grades\" :[ 60 , 80 , 100 ] }  ]\n",
    "# full mark is 100\n",
    "for student in students :\n",
    "    name = student[\"name\"]\n",
    "    grades = student[\"grades\"]\n",
    "    average = sum(grades) / len(grades)\n",
    "    print ( name , \":\" , \" The average of their marks is :\" , average ) "
   ]
  },
  {
   "cell_type": "code",
   "execution_count": null,
   "id": "113a68eb-1514-4cda-ac6f-1f9b5077fcca",
   "metadata": {},
   "outputs": [],
   "source": []
  }
 ],
 "metadata": {
  "kernelspec": {
   "display_name": "Python [conda env:base] *",
   "language": "python",
   "name": "conda-base-py"
  },
  "language_info": {
   "codemirror_mode": {
    "name": "ipython",
    "version": 3
   },
   "file_extension": ".py",
   "mimetype": "text/x-python",
   "name": "python",
   "nbconvert_exporter": "python",
   "pygments_lexer": "ipython3",
   "version": "3.13.5"
  }
 },
 "nbformat": 4,
 "nbformat_minor": 5
}
